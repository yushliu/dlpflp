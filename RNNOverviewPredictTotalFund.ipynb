{
  "cells": [
    {
      "cell_type": "code",
      "execution_count": 1,
      "metadata": {
        "id": "JVqMfhzZsqrG"
      },
      "outputs": [],
      "source": [
        "#coding:utf-8"
      ]
    },
    {
      "cell_type": "code",
      "execution_count": 2,
      "metadata": {
        "colab": {
          "base_uri": "https://localhost:8080/"
        },
        "id": "hffgRbH0Igt2",
        "outputId": "1f8c7ab1-3b63-4a6b-bc09-98faf93b5f25"
      },
      "outputs": [
        {
          "output_type": "stream",
          "name": "stdout",
          "text": [
            "Drive already mounted at /content/drive; to attempt to forcibly remount, call drive.mount(\"/content/drive\", force_remount=True).\n"
          ]
        }
      ],
      "source": [
        "# 跟「繪圖」有關的套件，如果沒有打算繪圖就不用 import\n",
        "%matplotlib inline\n",
        "import matplotlib.pyplot as plt\n",
        "\n",
        "import tensorflow as tf\n",
        "import numpy as np\n",
        "import pandas as pd\n",
        "from google.colab import drive\n",
        "from sklearn.utils import shuffle\n",
        "drive.mount('/content/drive')\n",
        "import math\n",
        "from tensorflow.keras.preprocessing.text import Tokenizer\n",
        "from tensorflow.keras.preprocessing.sequence import pad_sequences\n",
        "from tensorflow.keras import Sequential\n",
        "from tensorflow.keras.layers import Dense, Embedding, GlobalAveragePooling1D, Input, LSTM, Dropout\n",
        "from tensorflow.keras.layers import TextVectorization\n",
        "from tensorflow.keras.optimizers import Adam\n",
        "from keras.callbacks import EarlyStopping\n",
        "import gensim.downloader"
      ]
    },
    {
      "cell_type": "code",
      "source": [
        "def show_train_history(train_history):\n",
        "\n",
        "  #fig , ax = plt.subplots()\n",
        "  #fig.subplots_adjust(hspace=0.4, wspace=0.4) #設定子圖的間隔\n",
        "  #fig.set_figwidth(14)\n",
        "  \"\"\"\n",
        "  ax1 = plt.subplot(1, 2, 1)\n",
        "  plt.title(\"Accuracy\")\n",
        "  plt.plot(train_history.history['accuracy'],'-', label='accuracy')\n",
        "  plt.plot(train_history.history['val_accuracy'],'-',  label='val_accuracy')\n",
        "  leg = ax1.legend(loc='lower right') \n",
        "  plt.ylabel('accuracy')\n",
        "  plt.xlabel('Epoch')\n",
        "  \"\"\"\n",
        "\n",
        "  #ax2 = plt.subplot(1, 2, 2)\n",
        "  plt.title(\"Loss\")\n",
        "  plt.plot(train_history.history['loss'],'-', label='loss')\n",
        "  plt.plot(train_history.history['val_loss'],'-', label='val_loss')\n",
        "  #leg = ax2.legend(loc='upper right') \n",
        "  plt.ylabel('loss')\n",
        "  plt.xlabel('Epoch')\n",
        "  plt.show()"
      ],
      "metadata": {
        "id": "ME5lbJYdqlBB"
      },
      "execution_count": 3,
      "outputs": []
    },
    {
      "cell_type": "code",
      "execution_count": 4,
      "metadata": {
        "colab": {
          "base_uri": "https://localhost:8080/"
        },
        "id": "NLmwknq4rv7G",
        "outputId": "cffd5727-813d-442f-cdb8-8d7bb28d058b"
      },
      "outputs": [
        {
          "output_type": "stream",
          "name": "stderr",
          "text": [
            "/usr/local/lib/python3.8/dist-packages/IPython/core/interactiveshell.py:3326: DtypeWarning: Columns (4) have mixed types.Specify dtype option on import or set low_memory=False.\n",
            "  exec(code_obj, self.user_global_ns, self.user_ns)\n"
          ]
        },
        {
          "output_type": "stream",
          "name": "stdout",
          "text": [
            "0         0.77895\n",
            "1         0.00000\n",
            "2         0.00000\n",
            "3         0.00000\n",
            "4         0.00000\n",
            "           ...   \n",
            "462629    0.00000\n",
            "462634    0.00000\n",
            "462637    0.00000\n",
            "462642    0.00000\n",
            "462643    0.00000\n",
            "Name: normalized_logged_funding_total_usd, Length: 235235, dtype: float64\n"
          ]
        }
      ],
      "source": [
        "data = pd.read_csv(\"/content/drive/MyDrive/DLPFLP/name,outline,totalFundedUSD.csv\")\n",
        "data = data.drop('country_code', axis=1)\n",
        "data = data.drop('funding_rounds', axis=1)\n",
        "data = data.drop('status', axis=1)\n",
        "data = data.drop('entity_id', axis=1)\n",
        "data = data.drop('normalized_name', axis=1)\n",
        "data = data.dropna()\n",
        "def usdLogged(x):\n",
        "  if x == 0:\n",
        "    return 0\n",
        "  else:\n",
        "    return math.log(x, 10)\n",
        "\n",
        "def normalize(x, max):\n",
        "  if (x == 0):\n",
        "    return 0\n",
        "  else:\n",
        "    return x / max\n",
        "\n",
        "data['logged_funding_total_usd'] = data['funding_total_usd'].apply(lambda x:usdLogged(x))\n",
        "max_logged_funding_total_usd = data['logged_funding_total_usd'].max()\n",
        "data['normalized_logged_funding_total_usd'] = data['logged_funding_total_usd'].apply(lambda x:normalize(x, max_logged_funding_total_usd))\n",
        "data['inverted_normalized_logged_funding_total_usd'] = data['normalized_logged_funding_total_usd'].apply(lambda x:1-x)\n",
        "print(data['normalized_logged_funding_total_usd'])"
      ]
    },
    {
      "cell_type": "code",
      "source": [
        "trainfundingTotalUsd = data['logged_funding_total_usd'].to_numpy()\n",
        "trainOverviewString = data['overview'].to_numpy()\n",
        "print(trainfundingTotalUsd)\n",
        "print(trainfundingTotalUsd.shape)\n",
        "print(trainOverviewString.shape)"
      ],
      "metadata": {
        "colab": {
          "base_uri": "https://localhost:8080/"
        },
        "id": "o2SQXPkNoPzz",
        "outputId": "14ba45d5-25d5-41c3-b6f2-cd82e3e9bf23"
      },
      "execution_count": 5,
      "outputs": [
        {
          "output_type": "stream",
          "name": "stdout",
          "text": [
            "[7.59933713 0.         0.         ... 0.         0.         0.        ]\n",
            "(235235,)\n",
            "(235235,)\n"
          ]
        }
      ]
    },
    {
      "cell_type": "code",
      "source": [
        "def split_list(target_list:list, percent:float):\n",
        "  return target_list[0:int(len(target_list) * percent)], target_list[int(len(target_list) * percent):int(len(target_list))]"
      ],
      "metadata": {
        "id": "HPJz87F4tOGF"
      },
      "execution_count": 6,
      "outputs": []
    },
    {
      "cell_type": "code",
      "source": [
        "print(trainfundingTotalUsd.shape)\n",
        "print(trainOverviewString.shape)\n",
        "trainOverviewString, trainfundingTotalUsd = shuffle(trainOverviewString, trainfundingTotalUsd)\n",
        "trainfundingTotalUsd, testfundingTotalUsd = split_list(trainfundingTotalUsd, 0.8)\n",
        "trainOverviewString, testOverviewString = split_list(trainOverviewString, 0.8)\n",
        "print(trainfundingTotalUsd.shape)\n",
        "print(trainfundingTotalUsd)\n",
        "print(trainOverviewString.shape)\n",
        "print(trainOverviewString)\n",
        "print(testfundingTotalUsd.shape)\n",
        "print(testfundingTotalUsd)\n",
        "print(testOverviewString.shape)\n",
        "print(testOverviewString)"
      ],
      "metadata": {
        "colab": {
          "base_uri": "https://localhost:8080/"
        },
        "id": "QSzbotA5tzbU",
        "outputId": "bb18f5fc-68ca-4b55-a3dd-7279e41cf46b"
      },
      "execution_count": 7,
      "outputs": [
        {
          "output_type": "stream",
          "name": "stdout",
          "text": [
            "(235235,)\n",
            "(235235,)\n",
            "(188188,)\n",
            "[0. 0. 0. ... 0. 0. 0.]\n",
            "(188188,)\n",
            "['Chris Grant is Co-Founder of Synthace.'\n",
            " 'Kabir Sehgal is an entrepreneur, startup consultant, humanitarian, public and motivational speaker, career counselor, Google Employee, business owner in the Bay Area. \\n\\nHe is 21 years old, worked at Google as a Product Quality Associate and runs multiple student help groups and websites: Slug Jobs, Spartan Jobs, Santa Cruz Successful Scholars, and fieldstudy (www.fieldstudy.net)\\n\\nKabir has worked at Plantronics, Market Motive, Brush with Bamboo, Google, FieldStudy and Slug Jobs. \\n\\nKabir Sehgal has graduated from the University of California, Santa Cruz with a B.A. in Business Management Economics a full two years earlier than my classmates with the goal of accelerating my real-world learning. It?s my time to take big risks, make big moves, and learn along the way. I want to learn from passionate and intelligent teams working on game-changing projects in fields related to my skills and background.\\n\\nSpecialties:Marketing, Online Marketing, Google Adwords and Adsense, SEO, web analytics, social media advertisement, Marketing Research, Microsoft Office, Communication Skills, eMarketer, Computer Repair, Computer/Disk Clean up, Web Conversion, Career Counseling, Life Advice, Motivational Speaking, Student Advisor, Entrepreneur, Startup Consultant'\n",
            " 'StickiPages is a social platform that enables web and mobile users to socially interact with locations and physical objects. We all use sticky notes to write a reminder or to leave a message for someone. We write notes and stick them on computers, books, fridges, and walls. Using StickiPages is similar to using the sticky notes. The only difference is that instead of writing on pieces of paper, users can now create mobile pages and stick them virtually on any physical object. \\n\\nImagine that you can stick a page on a BMW in the street saying ?I am selling a similar car? with images and videos of your own car. You can stick a page on a museum wall, an iPhone, or an article in a magazine. You can even stick a page on a TV program while watching it and interact with others who are watching the same program at the same time. Not only that, you can also search for pages created by others and stuck on products, places, brands, barcodes, TV/Radio programs, magazines, QR codes, and any other physical objects and interact with them. Those are just few examples of what can be done using StickiPages and we leave the rest up to your imagination.'\n",
            " ...\n",
            " 'Pablo Rivera is Alcance Media Group?s Director of Ad Operations and Network Development. A member of AlcanceMG?s Ad Ops team since 2011, Pablo is responsible for campaign delivery, network expansion and product development.\\n\\nPablo holds a BS in Business Administration with a focus in International Business and a minor in Spanish from Notre Dame de Namur University.\\n\\nBefore joining AlcanceMG, Pablo worked with 4INFO, where he was instrumental in developing the company?s first Spanish-language mobile services. When Pablo isn?t busy keeping AlcanceMG?s operations running smoothly, you can find him on a soccer field, watching the Giants and 49ers, or on his way to the Mission District on the prowl for some Salvadoran food.'\n",
            " \"Amazing Tech Products publishes content around tech products, companies, and people who make innovative products. The company's websites, AmazingTechProducts.com & AmazingTechBlog.com, provide an online destination for people to discover, learn about, and engage with innovative tech products.\\n\\nAmazing Tech Products Inc hosts multiple websites, blogs and podcasts about consumer electronics and tech products. The website - AmazingTechProducts.com - offers alternative marketing solutions to companies which produce great products but do not have the resources to advertise them effectively. Amazing Tech Products partners with some of the biggest consumer electronic companies like Sony, Logitech, SanDisk and Creative Labs.\\n\\nThe blog - AmazingTechBlog.com - provides multi-dimensional reviews of consumer tech products from people belonging to various age-groups and professions.\"\n",
            " \"CSRwire is a source of corporate social responsibility and sustainability news, reports and information. CSRwire members are companies and NGOs, agencies and organizations interested in communicating their corporate citizenship, sustainability, and socially responsible initiatives to a global audience through CSRwire's syndication network and weekly News Alerts. CSRwire content covers issues of Diversity, Philanthropy, Socially Responsible Investing (SRI) Environment, Human Rights, Workplace Issues, Business Ethics, Community Development and Corporate Governance.\"]\n",
            "(47047,)\n",
            "[0.         0.         0.         ... 7.34242268 0.         0.        ]\n",
            "(47047,)\n",
            "[\"Tyrocircle aims to change the way students, academics and alumni's communicate with each other within Higher Education.\\n\\nTyrocircle is an easy-to-use social platform that facilitates a community of fun energising learning to take place between students, academics and alumni?s through the use of built-in flags and Scholar Rooms. All users will be required to sign up with their university e-mail address or access code. In this way, only verified users can join Tyrocircle.\\n\\nTyrocircle also serves as a diagnostic tool (dashboard) for universities. Tyrocircle will assist universities with their network analytics and improve university efficiency. Here universities will be able to review usage metrics, individual courses and student progress. Our pragmatic social platform is designed to facilitate university collaboration and knowledge transfer between students, academics and alumni?s.\\n\\nwe are launching our private beta very soon. \"\n",
            " 'Skullcandy is a leading audio brand that reflects the collision of the music, fashion and action sports lifestyles. Our brand and distinctive logo symbolizes youth and rebellion, and embodies our motto, \"Every revolution needs a soundtrack.\" Founded on innovation, we fuse bold color schemes, loud patterns, unique materials and creative packaging with the latest audio technologies and innovative functionalities to create new and unique product. Our headphones feature our distinctive Skullcandy sound and leading-edge design. We offer a wide array of styles and price points and are expanding our brand into complementary audio products and accessories.\\n\\nSkullcandy products are sold in the United States and in more than 70 other countries around the world. We pioneered the distribution of headphones in specialty retailers focused on action sports and the youth lifestyle, such as Zumiez, Tilly\\'s and hundreds of independent snow, skate and surf retailers. Through this channel we reach consumer influencers, individuals who help establish and maintain the credibility and authenticity of our brand. Building on this foundation, we have successfully expanded our distribution to select consumer electronics, mass, sporting goods and mobile phone retailers.'\n",
            " '\\n\\nDr. Moose, 71, is President of Strategic Advisory Services LLC, a consulting firm. She was Senior Vice President and Director of The Boston Consulting Group, Inc. (BCG) until 2004. At BCG, Dr. Moose provided strategic planning, operational effectiveness and related consulting services to global clients in a variety of industries, including consumer and industrial goods, financial services and telecommunications, over a 35-year career. Dr. Moose was a principal founder of BCG?s Financial Services practice and a key contributor in the development of the firm?s early management concepts. She led BCG?s New York office from 1988 to 1998 and was Chair of the East Coast region, which accounted for approximately 20% of BCG?s overall revenues, from 1994 to 1999.\\n\\nDr. Moose?s experience at BCG as a strategic advisor to diverse clients enables her to advise the Board and senior management on key issues of corporate strategy, including with respect to global growth, consumer goods and telecommunications issues. In addition to her strategic planning expertise, Dr. Moose has been the chair or presiding director of several public companies and several charitable organizations, which has given her extensive expertise in corporate governance. Dr. Moose also brings to the Board substantial financial expertise and insights into the views of institutional investors, which are important to Verizon as a public company.\\n\\nDr. Moose has served as a Director of Verizon since 2000 and was a director of GTE Corporation from 1978 to 2000. She is Presiding Director, Chairperson of the Corporate Governance and Policy Committee and a member of the Audit Committee. Dr. Moose is also Chairperson of the Board of Trustees of Natixis Advisor Funds (where she has served as a trustee of the funds and their predecessors since 1982) and Loomis Sayles Funds (where she has served as a trustee since 2003) and a director of The AES Corporation (since 2004). In the past five years, Dr. Moose has served on the board of Rohm and Haas Company as its lead director.\\n'\n",
            " ...\n",
            " 'Agito Networks, Inc. is the award-winning technology leader in the enterprise mobility space. Its product, the RoamAnywhereâ?¢ Mobility Routerâ?¢, is an innovative enterprise fixed mobile convergence (eFMC) platform enabling enterprises to extend voice and Unified Communications to cell phones. RoamAnywhere is the first and only network appliance that fuses enterprise wireless LANs, carrier cellular networks, IP telephony and location technology to mobilize voice and data applications, while remaining agnostic to customersâ?? choices of carrier and equipment vendors. Agito Networks enables low-cost in-building voice coverage, reduced cellular costs, improved enterprise visibility and control over cellular usage, and better accessibility and responsiveness for mobile workers. A Red Herring 100 winner, Agito was named a Coolest Emerging Technology Vendor for 2008 by CRN, as well as a Top Innovator by VON Magazine. The Companyâ??s RoamAnywhere has received numerous industry awards as wel, including earning CTIA Emerging Technology and eWEEK Excellence awards, and receiving Product of the Year honors from Unified Communications and Internet Telephony magazines. CTO Timothy Olson was also named one of the Best CTOs of 2008 by InfoWorld.\\n \\nFounded and led by industry experts in the areas of WiFi, cellular, telephony and mobile operating systems, Agito Networks is delivering its innovative, patent-pending solution to enterprises in a variety of markets, including healthcare, education, manufacturing and high tech. Agito Networksâ?? RoamAnywhere represents the next generation of enterprise mobility products for enterprises seeking the promise of improved productivity and cost savings from enterprise fixed mobile convergence (eFMC).\\n \\nHeadquartered in Santa Clara, Calif., Agito Networks is well funded with approximately $20 million in investment from Battery Ventures, Castile Ventures and ITX International Holdings, Inc.'\n",
            " 'Michael is responsible for designing and implementing innovations in building an industry leading platform. In this role, he oversees platform delivery functions and CPE fulfillment, including customer support and the development of advanced processes and systems to help the company evolve its MVaaS platform. Prior to joining Envysion, Coar was vice president of client services at New Global Telecom, where he was responsible for service delivery, service assurance, billing, and vendor management functions and managed growth from 2,500 seats under management to over 250,000 during his time with the company. Before New Global Telecom, Coar worked at Level 3 Communications as director of product management for Enterprise Voice Services focused on enhancing the quote to cash process while growing the customer base from approximately 2,000 seats in March 2004 to over 12,000 seats by December 2004.'\n",
            " 'Alex Frost is a technology and marketing entrepreneur living in Los Angeles. He was the founder of Stargazer Productions in 1995 (before acquired by AFS-Teleflora in 1998). Founded AmericanFuneral.com in 1999, Sunflower Technologies in 2001, LocalFlorist.com in 2005 and QuickFlora in 2010. ']\n"
          ]
        }
      ]
    },
    {
      "cell_type": "code",
      "source": [
        "print(trainfundingTotalUsd.min())"
      ],
      "metadata": {
        "colab": {
          "base_uri": "https://localhost:8080/"
        },
        "id": "wCcPeIaTxccf",
        "outputId": "a0d259e8-db0b-419f-aae2-b0b03d9c75dd"
      },
      "execution_count": 8,
      "outputs": [
        {
          "output_type": "stream",
          "name": "stdout",
          "text": [
            "0.0\n"
          ]
        }
      ]
    },
    {
      "cell_type": "code",
      "execution_count": 9,
      "metadata": {
        "colab": {
          "base_uri": "https://localhost:8080/"
        },
        "id": "SDWZpnHVx6Zp",
        "outputId": "3a7f517c-866b-4ce8-f93c-b21b6dbca737"
      },
      "outputs": [
        {
          "output_type": "stream",
          "name": "stdout",
          "text": [
            " Number of GPUs available:  1\n"
          ]
        }
      ],
      "source": [
        "# 非必要，但用了會比較快\n",
        "physical_devices = tf.config.experimental.list_physical_devices('GPU')\n",
        "print(\" Number of GPUs available: \" , len(physical_devices))\n",
        "tf.config.experimental.set_memory_growth(physical_devices[0], True)"
      ]
    },
    {
      "cell_type": "code",
      "source": [
        "# pretrained word embedding\n",
        "glove_vectors = gensim.downloader.load('glove-wiki-gigaword-50')"
      ],
      "metadata": {
        "id": "f16vw9IjSty5"
      },
      "execution_count": 10,
      "outputs": []
    },
    {
      "cell_type": "code",
      "source": [
        "print(len(glove_vectors['hello']))"
      ],
      "metadata": {
        "colab": {
          "base_uri": "https://localhost:8080/"
        },
        "id": "z9MPgK-NTbPZ",
        "outputId": "d5176a08-c2cf-46e4-e9d0-752ae0b7d4a7"
      },
      "execution_count": 11,
      "outputs": [
        {
          "output_type": "stream",
          "name": "stdout",
          "text": [
            "50\n"
          ]
        }
      ]
    },
    {
      "cell_type": "code",
      "source": [
        "for index in range(len(trainOverviewString)):\n",
        "  trainOverviewString[index] = tf.keras.preprocessing.text.text_to_word_sequence(trainOverviewString[index])\n",
        "\n",
        "for index in range(len(testOverviewString)):\n",
        "  testOverviewString[index] = tf.keras.preprocessing.text.text_to_word_sequence(testOverviewString[index])\n",
        "\n"
      ],
      "metadata": {
        "id": "BAUxWAgbdUOh"
      },
      "execution_count": 12,
      "outputs": []
    },
    {
      "cell_type": "code",
      "source": [
        "print(trainOverviewString[5])"
      ],
      "metadata": {
        "colab": {
          "base_uri": "https://localhost:8080/"
        },
        "id": "5Js5EF2bgmVh",
        "outputId": "048c4eb9-7a47-4543-c3d7-9ed5fd829041"
      },
      "execution_count": 13,
      "outputs": [
        {
          "output_type": "stream",
          "name": "stdout",
          "text": [
            "['a', 'work', 'collaboration', 'network', 'for', 'those', 'with', 'multiple', 'projects', 'tasks', 'and', 'colleagues', 'to', 'manage', 'and', 'communicate', 'with', 'simple', 'and', 'intuitive', 'to', 'use', 'head', 'of', 'the', 'curve', 'integrates', 'web', 'conferencing', 'a', 'project', 'task', 'manager', 'and', 'a', 'simultaneous', 'text', 'editor', 'into', 'a', 'powerful', 'and', 'versatile', 'private', 'business', 'network', 'uk', 'based', 'from', 'free', 'through', 'two', 'subscription', 'levels', 'of', 'access', 'to', \"'enterprise'\", 'which', 'is', 'a', 'bespoke', 'service', 'giving', 'tariff', 'choices', 'multiple', 'networks', 'multi', 'users', 'and', 'branding', 'enterprise', 'also', 'provides', 'a', 'dedicated', 'account', 'manager', 'ensuring', 'direct', 'contact', 'at', 'all', 'times', 'for', 'queries', 'and', 'problems', 'uk', 'based', 'so', 'time', 'difference', 'will', 'apply', 'elsewhere', 'for', 'more', 'information', 'please', 'go', 'to', 'home', 'login', 'page', 'and', 'when', 'registering', 'use', 'the', 'voucher', 'code', 'cobra427', 'for', 'a', 'two', 'week', 'trial', 'at', \"'business'\", 'account', 'level', 'which', 'provides', 'full', 'access', 'to', 'all', 'the', 'features', 'and', 'functions']\n"
          ]
        }
      ]
    },
    {
      "cell_type": "code",
      "execution_count": 14,
      "metadata": {
        "id": "gFnPh9st3mjs"
      },
      "outputs": [],
      "source": [
        "# self made tokenizer\n",
        "# tokenizer = Tokenizer(lower=True, num_words=40000)\n",
        "# tokenizer.fit_on_texts(trainOverviewString)"
      ]
    },
    {
      "cell_type": "code",
      "execution_count": 15,
      "metadata": {
        "id": "p5mbhGcP_cM-"
      },
      "outputs": [],
      "source": [
        "# trainOverviewString = tokenizer.texts_to_sequences(trainOverviewString)\n",
        "# print(trainOverviewString[20909])"
      ]
    },
    {
      "cell_type": "code",
      "execution_count": 16,
      "metadata": {
        "id": "S49-iybp_079"
      },
      "outputs": [],
      "source": [
        "# trainOverviewString = pad_sequences(trainOverviewString, padding='post', maxlen=100)\n",
        "# print(trainOverviewString[10])\n",
        "# print(trainOverviewString.shape)"
      ]
    },
    {
      "cell_type": "code",
      "source": [
        "# num_words = len(tokenizer.word_index) + 1\n",
        "# print(num_words)"
      ],
      "metadata": {
        "id": "9ibbKuVgwjnI"
      },
      "execution_count": 17,
      "outputs": []
    },
    {
      "cell_type": "code",
      "execution_count": 18,
      "metadata": {
        "id": "Rh6fc6n2UOuK"
      },
      "outputs": [],
      "source": [
        "model = Sequential([\n",
        "  # Embedding(input_dim=40000, output_dim=16, mask_zero=True),\n",
        "\n",
        "  LSTM(256, input_length=100, input_dim=50),\n",
        "  Dropout(0.2),\n",
        "  Dense(512, activation='relu'),\n",
        "  Dropout(0.2),\n",
        "  Dense(256, activation='relu'),\n",
        "  Dropout(0.2),\n",
        "  Dense(128, activation='relu'),\n",
        "  Dropout(0.2),\n",
        "  Dense(64, activation='relu'),\n",
        "  Dropout(0.2),\n",
        "  Dense(1, activation='linear')\n",
        "])"
      ]
    },
    {
      "cell_type": "code",
      "execution_count": 19,
      "metadata": {
        "colab": {
          "base_uri": "https://localhost:8080/"
        },
        "id": "PWaQqxDnVOnj",
        "outputId": "070e9dd1-c545-4d02-c84b-0bfa41e67230"
      },
      "outputs": [
        {
          "output_type": "stream",
          "name": "stdout",
          "text": [
            "Model: \"sequential\"\n",
            "_________________________________________________________________\n",
            " Layer (type)                Output Shape              Param #   \n",
            "=================================================================\n",
            " lstm (LSTM)                 (None, 256)               314368    \n",
            "                                                                 \n",
            " dropout (Dropout)           (None, 256)               0         \n",
            "                                                                 \n",
            " dense (Dense)               (None, 512)               131584    \n",
            "                                                                 \n",
            " dropout_1 (Dropout)         (None, 512)               0         \n",
            "                                                                 \n",
            " dense_1 (Dense)             (None, 256)               131328    \n",
            "                                                                 \n",
            " dropout_2 (Dropout)         (None, 256)               0         \n",
            "                                                                 \n",
            " dense_2 (Dense)             (None, 128)               32896     \n",
            "                                                                 \n",
            " dropout_3 (Dropout)         (None, 128)               0         \n",
            "                                                                 \n",
            " dense_3 (Dense)             (None, 64)                8256      \n",
            "                                                                 \n",
            " dropout_4 (Dropout)         (None, 64)                0         \n",
            "                                                                 \n",
            " dense_4 (Dense)             (None, 1)                 65        \n",
            "                                                                 \n",
            "=================================================================\n",
            "Total params: 618,497\n",
            "Trainable params: 618,497\n",
            "Non-trainable params: 0\n",
            "_________________________________________________________________\n"
          ]
        }
      ],
      "source": [
        "model.summary()"
      ]
    },
    {
      "cell_type": "code",
      "execution_count": 20,
      "metadata": {
        "id": "v8pc7_seWC_S"
      },
      "outputs": [],
      "source": [
        "model.compile(loss='huber_loss', optimizer=Adam(learning_rate=0.00001, decay=0.0001))"
      ]
    },
    {
      "cell_type": "code",
      "source": [
        "print(trainOverviewString)\n",
        "print(trainfundingTotalUsd)"
      ],
      "metadata": {
        "colab": {
          "base_uri": "https://localhost:8080/"
        },
        "id": "XnFMzz4wm3FA",
        "outputId": "23c35582-0884-4f53-ceeb-a1d4b66e0ec1"
      },
      "execution_count": 21,
      "outputs": [
        {
          "output_type": "stream",
          "name": "stdout",
          "text": [
            "[list(['chris', 'grant', 'is', 'co', 'founder', 'of', 'synthace'])\n",
            " list(['kabir', 'sehgal', 'is', 'an', 'entrepreneur', 'startup', 'consultant', 'humanitarian', 'public', 'and', 'motivational', 'speaker', 'career', 'counselor', 'google', 'employee', 'business', 'owner', 'in', 'the', 'bay', 'area', 'he', 'is', '21', 'years', 'old', 'worked', 'at', 'google', 'as', 'a', 'product', 'quality', 'associate', 'and', 'runs', 'multiple', 'student', 'help', 'groups', 'and', 'websites', 'slug', 'jobs', 'spartan', 'jobs', 'santa', 'cruz', 'successful', 'scholars', 'and', 'fieldstudy', 'www', 'fieldstudy', 'net', 'kabir', 'has', 'worked', 'at', 'plantronics', 'market', 'motive', 'brush', 'with', 'bamboo', 'google', 'fieldstudy', 'and', 'slug', 'jobs', 'kabir', 'sehgal', 'has', 'graduated', 'from', 'the', 'university', 'of', 'california', 'santa', 'cruz', 'with', 'a', 'b', 'a', 'in', 'business', 'management', 'economics', 'a', 'full', 'two', 'years', 'earlier', 'than', 'my', 'classmates', 'with', 'the', 'goal', 'of', 'accelerating', 'my', 'real', 'world', 'learning', 'it', 's', 'my', 'time', 'to', 'take', 'big', 'risks', 'make', 'big', 'moves', 'and', 'learn', 'along', 'the', 'way', 'i', 'want', 'to', 'learn', 'from', 'passionate', 'and', 'intelligent', 'teams', 'working', 'on', 'game', 'changing', 'projects', 'in', 'fields', 'related', 'to', 'my', 'skills', 'and', 'background', 'specialties', 'marketing', 'online', 'marketing', 'google', 'adwords', 'and', 'adsense', 'seo', 'web', 'analytics', 'social', 'media', 'advertisement', 'marketing', 'research', 'microsoft', 'office', 'communication', 'skills', 'emarketer', 'computer', 'repair', 'computer', 'disk', 'clean', 'up', 'web', 'conversion', 'career', 'counseling', 'life', 'advice', 'motivational', 'speaking', 'student', 'advisor', 'entrepreneur', 'startup', 'consultant'])\n",
            " list(['stickipages', 'is', 'a', 'social', 'platform', 'that', 'enables', 'web', 'and', 'mobile', 'users', 'to', 'socially', 'interact', 'with', 'locations', 'and', 'physical', 'objects', 'we', 'all', 'use', 'sticky', 'notes', 'to', 'write', 'a', 'reminder', 'or', 'to', 'leave', 'a', 'message', 'for', 'someone', 'we', 'write', 'notes', 'and', 'stick', 'them', 'on', 'computers', 'books', 'fridges', 'and', 'walls', 'using', 'stickipages', 'is', 'similar', 'to', 'using', 'the', 'sticky', 'notes', 'the', 'only', 'difference', 'is', 'that', 'instead', 'of', 'writing', 'on', 'pieces', 'of', 'paper', 'users', 'can', 'now', 'create', 'mobile', 'pages', 'and', 'stick', 'them', 'virtually', 'on', 'any', 'physical', 'object', 'imagine', 'that', 'you', 'can', 'stick', 'a', 'page', 'on', 'a', 'bmw', 'in', 'the', 'street', 'saying', 'i', 'am', 'selling', 'a', 'similar', 'car', 'with', 'images', 'and', 'videos', 'of', 'your', 'own', 'car', 'you', 'can', 'stick', 'a', 'page', 'on', 'a', 'museum', 'wall', 'an', 'iphone', 'or', 'an', 'article', 'in', 'a', 'magazine', 'you', 'can', 'even', 'stick', 'a', 'page', 'on', 'a', 'tv', 'program', 'while', 'watching', 'it', 'and', 'interact', 'with', 'others', 'who', 'are', 'watching', 'the', 'same', 'program', 'at', 'the', 'same', 'time', 'not', 'only', 'that', 'you', 'can', 'also', 'search', 'for', 'pages', 'created', 'by', 'others', 'and', 'stuck', 'on', 'products', 'places', 'brands', 'barcodes', 'tv', 'radio', 'programs', 'magazines', 'qr', 'codes', 'and', 'any', 'other', 'physical', 'objects', 'and', 'interact', 'with', 'them', 'those', 'are', 'just', 'few', 'examples', 'of', 'what', 'can', 'be', 'done', 'using', 'stickipages', 'and', 'we', 'leave', 'the', 'rest', 'up', 'to', 'your', 'imagination'])\n",
            " ...\n",
            " list(['pablo', 'rivera', 'is', 'alcance', 'media', 'group', 's', 'director', 'of', 'ad', 'operations', 'and', 'network', 'development', 'a', 'member', 'of', 'alcancemg', 's', 'ad', 'ops', 'team', 'since', '2011', 'pablo', 'is', 'responsible', 'for', 'campaign', 'delivery', 'network', 'expansion', 'and', 'product', 'development', 'pablo', 'holds', 'a', 'bs', 'in', 'business', 'administration', 'with', 'a', 'focus', 'in', 'international', 'business', 'and', 'a', 'minor', 'in', 'spanish', 'from', 'notre', 'dame', 'de', 'namur', 'university', 'before', 'joining', 'alcancemg', 'pablo', 'worked', 'with', '4info', 'where', 'he', 'was', 'instrumental', 'in', 'developing', 'the', 'company', 's', 'first', 'spanish', 'language', 'mobile', 'services', 'when', 'pablo', 'isn', 't', 'busy', 'keeping', 'alcancemg', 's', 'operations', 'running', 'smoothly', 'you', 'can', 'find', 'him', 'on', 'a', 'soccer', 'field', 'watching', 'the', 'giants', 'and', '49ers', 'or', 'on', 'his', 'way', 'to', 'the', 'mission', 'district', 'on', 'the', 'prowl', 'for', 'some', 'salvadoran', 'food'])\n",
            " list(['amazing', 'tech', 'products', 'publishes', 'content', 'around', 'tech', 'products', 'companies', 'and', 'people', 'who', 'make', 'innovative', 'products', 'the', \"company's\", 'websites', 'amazingtechproducts', 'com', 'amazingtechblog', 'com', 'provide', 'an', 'online', 'destination', 'for', 'people', 'to', 'discover', 'learn', 'about', 'and', 'engage', 'with', 'innovative', 'tech', 'products', 'amazing', 'tech', 'products', 'inc', 'hosts', 'multiple', 'websites', 'blogs', 'and', 'podcasts', 'about', 'consumer', 'electronics', 'and', 'tech', 'products', 'the', 'website', 'amazingtechproducts', 'com', 'offers', 'alternative', 'marketing', 'solutions', 'to', 'companies', 'which', 'produce', 'great', 'products', 'but', 'do', 'not', 'have', 'the', 'resources', 'to', 'advertise', 'them', 'effectively', 'amazing', 'tech', 'products', 'partners', 'with', 'some', 'of', 'the', 'biggest', 'consumer', 'electronic', 'companies', 'like', 'sony', 'logitech', 'sandisk', 'and', 'creative', 'labs', 'the', 'blog', 'amazingtechblog', 'com', 'provides', 'multi', 'dimensional', 'reviews', 'of', 'consumer', 'tech', 'products', 'from', 'people', 'belonging', 'to', 'various', 'age', 'groups', 'and', 'professions'])\n",
            " list(['csrwire', 'is', 'a', 'source', 'of', 'corporate', 'social', 'responsibility', 'and', 'sustainability', 'news', 'reports', 'and', 'information', 'csrwire', 'members', 'are', 'companies', 'and', 'ngos', 'agencies', 'and', 'organizations', 'interested', 'in', 'communicating', 'their', 'corporate', 'citizenship', 'sustainability', 'and', 'socially', 'responsible', 'initiatives', 'to', 'a', 'global', 'audience', 'through', \"csrwire's\", 'syndication', 'network', 'and', 'weekly', 'news', 'alerts', 'csrwire', 'content', 'covers', 'issues', 'of', 'diversity', 'philanthropy', 'socially', 'responsible', 'investing', 'sri', 'environment', 'human', 'rights', 'workplace', 'issues', 'business', 'ethics', 'community', 'development', 'and', 'corporate', 'governance'])]\n",
            "[0. 0. 0. ... 0. 0. 0.]\n"
          ]
        }
      ]
    },
    {
      "cell_type": "code",
      "execution_count": 22,
      "metadata": {
        "colab": {
          "base_uri": "https://localhost:8080/",
          "height": 398
        },
        "id": "ioSmt62Fu4mH",
        "outputId": "d16f91c3-f38b-4def-a3c0-dc4504c7327a"
      },
      "outputs": [
        {
          "output_type": "stream",
          "name": "stdout",
          "text": [
            "(188188,)\n",
            "(188188,)\n"
          ]
        },
        {
          "output_type": "error",
          "ename": "ValueError",
          "evalue": "ignored",
          "traceback": [
            "\u001b[0;31m---------------------------------------------------------------------------\u001b[0m",
            "\u001b[0;31mValueError\u001b[0m                                Traceback (most recent call last)",
            "\u001b[0;32m<ipython-input-22-0faecc7e69bd>\u001b[0m in \u001b[0;36m<module>\u001b[0;34m\u001b[0m\n\u001b[1;32m      1\u001b[0m \u001b[0mprint\u001b[0m\u001b[0;34m(\u001b[0m\u001b[0mtrainOverviewString\u001b[0m\u001b[0;34m.\u001b[0m\u001b[0mshape\u001b[0m\u001b[0;34m)\u001b[0m\u001b[0;34m\u001b[0m\u001b[0;34m\u001b[0m\u001b[0m\n\u001b[1;32m      2\u001b[0m \u001b[0mprint\u001b[0m\u001b[0;34m(\u001b[0m\u001b[0mtrainfundingTotalUsd\u001b[0m\u001b[0;34m.\u001b[0m\u001b[0mshape\u001b[0m\u001b[0;34m)\u001b[0m\u001b[0;34m\u001b[0m\u001b[0;34m\u001b[0m\u001b[0m\n\u001b[0;32m----> 3\u001b[0;31m \u001b[0mtrain_history\u001b[0m \u001b[0;34m=\u001b[0m \u001b[0mmodel\u001b[0m\u001b[0;34m.\u001b[0m\u001b[0mfit\u001b[0m\u001b[0;34m(\u001b[0m\u001b[0mtrainOverviewString\u001b[0m\u001b[0;34m,\u001b[0m \u001b[0mtrainfundingTotalUsd\u001b[0m\u001b[0;34m,\u001b[0m \u001b[0mvalidation_split\u001b[0m\u001b[0;34m=\u001b[0m\u001b[0;36m0.2\u001b[0m\u001b[0;34m,\u001b[0m \u001b[0mbatch_size\u001b[0m\u001b[0;34m=\u001b[0m\u001b[0;36m250\u001b[0m\u001b[0;34m,\u001b[0m \u001b[0mepochs\u001b[0m\u001b[0;34m=\u001b[0m\u001b[0;36m30\u001b[0m\u001b[0;34m,\u001b[0m \u001b[0mcallbacks\u001b[0m\u001b[0;34m=\u001b[0m\u001b[0;34m[\u001b[0m\u001b[0mEarlyStopping\u001b[0m\u001b[0;34m(\u001b[0m\u001b[0mmonitor\u001b[0m\u001b[0;34m=\u001b[0m\u001b[0;34m'val_loss'\u001b[0m\u001b[0;34m,\u001b[0m \u001b[0mpatience\u001b[0m\u001b[0;34m=\u001b[0m\u001b[0;36m1\u001b[0m\u001b[0;34m)\u001b[0m\u001b[0;34m]\u001b[0m\u001b[0;34m)\u001b[0m\u001b[0;34m\u001b[0m\u001b[0;34m\u001b[0m\u001b[0m\n\u001b[0m",
            "\u001b[0;32m/usr/local/lib/python3.8/dist-packages/keras/utils/traceback_utils.py\u001b[0m in \u001b[0;36merror_handler\u001b[0;34m(*args, **kwargs)\u001b[0m\n\u001b[1;32m     65\u001b[0m     \u001b[0;32mexcept\u001b[0m \u001b[0mException\u001b[0m \u001b[0;32mas\u001b[0m \u001b[0me\u001b[0m\u001b[0;34m:\u001b[0m  \u001b[0;31m# pylint: disable=broad-except\u001b[0m\u001b[0;34m\u001b[0m\u001b[0;34m\u001b[0m\u001b[0m\n\u001b[1;32m     66\u001b[0m       \u001b[0mfiltered_tb\u001b[0m \u001b[0;34m=\u001b[0m \u001b[0m_process_traceback_frames\u001b[0m\u001b[0;34m(\u001b[0m\u001b[0me\u001b[0m\u001b[0;34m.\u001b[0m\u001b[0m__traceback__\u001b[0m\u001b[0;34m)\u001b[0m\u001b[0;34m\u001b[0m\u001b[0;34m\u001b[0m\u001b[0m\n\u001b[0;32m---> 67\u001b[0;31m       \u001b[0;32mraise\u001b[0m \u001b[0me\u001b[0m\u001b[0;34m.\u001b[0m\u001b[0mwith_traceback\u001b[0m\u001b[0;34m(\u001b[0m\u001b[0mfiltered_tb\u001b[0m\u001b[0;34m)\u001b[0m \u001b[0;32mfrom\u001b[0m \u001b[0;32mNone\u001b[0m\u001b[0;34m\u001b[0m\u001b[0;34m\u001b[0m\u001b[0m\n\u001b[0m\u001b[1;32m     68\u001b[0m     \u001b[0;32mfinally\u001b[0m\u001b[0;34m:\u001b[0m\u001b[0;34m\u001b[0m\u001b[0;34m\u001b[0m\u001b[0m\n\u001b[1;32m     69\u001b[0m       \u001b[0;32mdel\u001b[0m \u001b[0mfiltered_tb\u001b[0m\u001b[0;34m\u001b[0m\u001b[0;34m\u001b[0m\u001b[0m\n",
            "\u001b[0;32m/usr/local/lib/python3.8/dist-packages/tensorflow/python/framework/constant_op.py\u001b[0m in \u001b[0;36mconvert_to_eager_tensor\u001b[0;34m(value, ctx, dtype)\u001b[0m\n\u001b[1;32m    100\u001b[0m       \u001b[0mdtype\u001b[0m \u001b[0;34m=\u001b[0m \u001b[0mdtypes\u001b[0m\u001b[0;34m.\u001b[0m\u001b[0mas_dtype\u001b[0m\u001b[0;34m(\u001b[0m\u001b[0mdtype\u001b[0m\u001b[0;34m)\u001b[0m\u001b[0;34m.\u001b[0m\u001b[0mas_datatype_enum\u001b[0m\u001b[0;34m\u001b[0m\u001b[0;34m\u001b[0m\u001b[0m\n\u001b[1;32m    101\u001b[0m   \u001b[0mctx\u001b[0m\u001b[0;34m.\u001b[0m\u001b[0mensure_initialized\u001b[0m\u001b[0;34m(\u001b[0m\u001b[0;34m)\u001b[0m\u001b[0;34m\u001b[0m\u001b[0;34m\u001b[0m\u001b[0m\n\u001b[0;32m--> 102\u001b[0;31m   \u001b[0;32mreturn\u001b[0m \u001b[0mops\u001b[0m\u001b[0;34m.\u001b[0m\u001b[0mEagerTensor\u001b[0m\u001b[0;34m(\u001b[0m\u001b[0mvalue\u001b[0m\u001b[0;34m,\u001b[0m \u001b[0mctx\u001b[0m\u001b[0;34m.\u001b[0m\u001b[0mdevice_name\u001b[0m\u001b[0;34m,\u001b[0m \u001b[0mdtype\u001b[0m\u001b[0;34m)\u001b[0m\u001b[0;34m\u001b[0m\u001b[0;34m\u001b[0m\u001b[0m\n\u001b[0m\u001b[1;32m    103\u001b[0m \u001b[0;34m\u001b[0m\u001b[0m\n\u001b[1;32m    104\u001b[0m \u001b[0;34m\u001b[0m\u001b[0m\n",
            "\u001b[0;31mValueError\u001b[0m: Failed to convert a NumPy array to a Tensor (Unsupported object type list)."
          ]
        }
      ],
      "source": [
        "print(trainOverviewString.shape)\n",
        "print(trainfundingTotalUsd.shape)\n",
        "train_history = model.fit(trainOverviewString, trainfundingTotalUsd, validation_split=0.2, batch_size=250, epochs=30, callbacks=[EarlyStopping(monitor='val_loss', patience=1)])"
      ]
    },
    {
      "cell_type": "code",
      "source": [
        "show_train_history(train_history)"
      ],
      "metadata": {
        "id": "scRFmzmTGgUD"
      },
      "execution_count": null,
      "outputs": []
    },
    {
      "cell_type": "code",
      "source": [
        "!jupyter notebook --NotebookApp.iopub_data_rate_limit=10000000000"
      ],
      "metadata": {
        "id": "9nFRTMPbFLD-"
      },
      "execution_count": null,
      "outputs": []
    },
    {
      "cell_type": "code",
      "source": [
        "testOverviewString = tokenizer.texts_to_sequences(testOverviewString.tolist())\n",
        "print(testOverviewString)\n",
        "testOverviewString = pad_sequences(testOverviewString, padding='post', maxlen=100)\n",
        "print(testOverviewString)\n"
      ],
      "metadata": {
        "id": "ePPyZdfbsRKP"
      },
      "execution_count": null,
      "outputs": []
    },
    {
      "cell_type": "code",
      "source": [
        "predict = model.predict(testOverviewString)\n",
        "print(predict)"
      ],
      "metadata": {
        "id": "qv5sT2xmMyDT"
      },
      "execution_count": null,
      "outputs": []
    },
    {
      "cell_type": "code",
      "source": [
        "f = plt.figure()\n",
        "f.set_figwidth(10)\n",
        "f.set_figheight(10)\n",
        "plt.plot([0, 10], [0, 10])\n",
        "plt.scatter(x=predict, y=testfundingTotalUsd,s=0.5)\n",
        "\n",
        "plt.show()"
      ],
      "metadata": {
        "id": "A8lBew2nFR2X"
      },
      "execution_count": null,
      "outputs": []
    }
  ],
  "metadata": {
    "accelerator": "GPU",
    "colab": {
      "provenance": []
    },
    "gpuClass": "standard",
    "kernelspec": {
      "display_name": "Python 3",
      "name": "python3"
    },
    "language_info": {
      "name": "python"
    }
  },
  "nbformat": 4,
  "nbformat_minor": 0
}