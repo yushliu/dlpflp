{
  "cells": [
    {
      "cell_type": "code",
      "execution_count": 2,
      "metadata": {
        "id": "m57oFgM3UN7n"
      },
      "outputs": [],
      "source": [
        "import pandas as pd\n",
        "from sklearn.model_selection import train_test_split\n",
        "import matplotlib.pyplot as plt\n",
        "from sklearn.datasets import load_boston\n",
        "from keras.models import Sequential\n",
        "from keras.layers import Dense, Conv1D, Flatten\n",
        "from sklearn.model_selection import train_test_split\n",
        "from sklearn.metrics import mean_squared_error\n",
        "import matplotlib.pyplot as plt\n",
        "import numpy as np\n",
        "import tensorflow as tf\n",
        "from tensorflow.keras.optimizers import Adam"
      ]
    },
    {
      "cell_type": "code",
      "source": [
        "!unzip onehot_data.zip"
      ],
      "metadata": {
        "id": "co7_5tJcWPEG",
        "colab": {
          "base_uri": "https://localhost:8080/"
        },
        "outputId": "24712bb1-6600-41e2-a5be-16cf93c4dacd"
      },
      "execution_count": 3,
      "outputs": [
        {
          "output_type": "stream",
          "name": "stdout",
          "text": [
            "Archive:  onehot_data.zip\n",
            "  inflating: onehot_data.csv         \n"
          ]
        }
      ]
    },
    {
      "cell_type": "code",
      "source": [
        "# 非必要，但用了會比較快\n",
        "physical_devices = tf.config.experimental.list_physical_devices('GPU')\n",
        "print(\" Number of GPUs available: \" , len(physical_devices))\n",
        "tf.config.experimental.set_memory_growth(physical_devices[0], True)"
      ],
      "metadata": {
        "id": "9kFJyYMZWPgP",
        "colab": {
          "base_uri": "https://localhost:8080/"
        },
        "outputId": "8cf23b3b-f675-4ff4-8546-7f4196c2e8c1"
      },
      "execution_count": 4,
      "outputs": [
        {
          "output_type": "stream",
          "name": "stdout",
          "text": [
            " Number of GPUs available:  1\n"
          ]
        }
      ]
    },
    {
      "cell_type": "code",
      "execution_count": 5,
      "metadata": {
        "id": "gbm8Rp-ZUN7o"
      },
      "outputs": [],
      "source": [
        "df = pd.read_csv('onehot_data.csv')"
      ]
    },
    {
      "cell_type": "code",
      "source": [],
      "metadata": {
        "id": "7cPdUHK1WNc6"
      },
      "execution_count": 5,
      "outputs": []
    },
    {
      "cell_type": "code",
      "execution_count": 6,
      "metadata": {
        "id": "Yis6UlBoUN7p"
      },
      "outputs": [],
      "source": [
        "df = df.drop(columns=['Unnamed: 0'])"
      ]
    },
    {
      "cell_type": "code",
      "execution_count": 7,
      "metadata": {
        "id": "HR1jK4ZaUN7p"
      },
      "outputs": [],
      "source": [
        "Y = df['status']\n",
        "X = df.drop(columns=['status'])"
      ]
    },
    {
      "cell_type": "code",
      "execution_count": 8,
      "metadata": {
        "id": "nqWQYUVVUN7p",
        "colab": {
          "base_uri": "https://localhost:8080/"
        },
        "outputId": "6d1cceb1-9e85-4d39-8a43-9389eb7c0956"
      },
      "outputs": [
        {
          "output_type": "execute_result",
          "data": {
            "text/plain": [
              "0         operating\n",
              "1          acquired\n",
              "2          acquired\n",
              "3         operating\n",
              "4         operating\n",
              "            ...    \n",
              "462646    operating\n",
              "462647    operating\n",
              "462648    operating\n",
              "462649    operating\n",
              "462650    operating\n",
              "Name: status, Length: 462651, dtype: object"
            ]
          },
          "metadata": {},
          "execution_count": 8
        }
      ],
      "source": [
        "Y"
      ]
    },
    {
      "cell_type": "code",
      "execution_count": 9,
      "metadata": {
        "id": "LSLlmXcLUN7p"
      },
      "outputs": [],
      "source": [
        "Y = [1 if i=='operating' else 0 for i in Y]# 1 True, 0 False"
      ]
    },
    {
      "cell_type": "code",
      "execution_count": 10,
      "metadata": {
        "id": "m4KkgwhYUN7p"
      },
      "outputs": [],
      "source": [
        "X = X.to_numpy()"
      ]
    },
    {
      "cell_type": "code",
      "execution_count": 11,
      "metadata": {
        "id": "M-e7AQ3mUN7q"
      },
      "outputs": [],
      "source": [
        "Y = np.array(Y)"
      ]
    },
    {
      "cell_type": "code",
      "execution_count": 12,
      "metadata": {
        "id": "KqTZil2OUN7q"
      },
      "outputs": [],
      "source": [
        "train_dataX, test_dataX, train_dataY, test_dataY = train_test_split(X, Y, train_size=0.8)"
      ]
    },
    {
      "cell_type": "code",
      "execution_count": 13,
      "metadata": {
        "id": "iGsx2dObUN7q",
        "colab": {
          "base_uri": "https://localhost:8080/"
        },
        "outputId": "927687e8-addc-4066-f2b6-a4bccb8ef836"
      },
      "outputs": [
        {
          "output_type": "execute_result",
          "data": {
            "text/plain": [
              "(370120, 370120, 92531, 92531)"
            ]
          },
          "metadata": {},
          "execution_count": 13
        }
      ],
      "source": [
        "len(train_dataX), len(train_dataY), len(test_dataX), len(test_dataY)"
      ]
    },
    {
      "cell_type": "markdown",
      "metadata": {
        "id": "Tt4BvFjoUN7q"
      },
      "source": [
        "#Start Here"
      ]
    },
    {
      "cell_type": "code",
      "execution_count": 13,
      "metadata": {
        "id": "VLnteW9VUN7r"
      },
      "outputs": [],
      "source": []
    },
    {
      "cell_type": "code",
      "execution_count": 14,
      "metadata": {
        "id": "Q2Dd7AvPUN7r"
      },
      "outputs": [],
      "source": [
        "# number of subprocesses to use for data loading\n",
        "num_workers = 0\n",
        "# how many samples per batch to load\n",
        "batch_size = 32\n",
        "# learning rate\n",
        "LR = 0.001"
      ]
    },
    {
      "cell_type": "code",
      "execution_count": 15,
      "metadata": {
        "id": "XD92Do7IUN7s"
      },
      "outputs": [],
      "source": [
        "model = Sequential()\n",
        "model.add(Conv1D(32, 2, activation=\"relu\", input_shape=(284,1)))\n",
        "model.add(Flatten())\n",
        "model.add(Dense(64, activation=\"relu\"))\n",
        "model.add(Dense(1))\n",
        "model.compile(loss=\"mse\", optimizer=\"adam\", metrics=['accuracy'])"
      ]
    },
    {
      "cell_type": "code",
      "execution_count": 16,
      "metadata": {
        "id": "LGLu8G-WUN7s",
        "colab": {
          "base_uri": "https://localhost:8080/"
        },
        "outputId": "77816319-4e95-409e-bb41-0cb2ebbf521e"
      },
      "outputs": [
        {
          "output_type": "stream",
          "name": "stdout",
          "text": [
            "Model: \"sequential\"\n",
            "_________________________________________________________________\n",
            " Layer (type)                Output Shape              Param #   \n",
            "=================================================================\n",
            " conv1d (Conv1D)             (None, 283, 32)           96        \n",
            "                                                                 \n",
            " flatten (Flatten)           (None, 9056)              0         \n",
            "                                                                 \n",
            " dense (Dense)               (None, 64)                579648    \n",
            "                                                                 \n",
            " dense_1 (Dense)             (None, 1)                 65        \n",
            "                                                                 \n",
            "=================================================================\n",
            "Total params: 579,809\n",
            "Trainable params: 579,809\n",
            "Non-trainable params: 0\n",
            "_________________________________________________________________\n"
          ]
        }
      ],
      "source": [
        "model.summary()"
      ]
    },
    {
      "cell_type": "code",
      "source": [
        "#model.compile(loss='binary_crossentropy', optimizer=Adam(learning_rate=LR, decay=0.0001), metrics=['accuracy'])"
      ],
      "metadata": {
        "id": "HFJTktKWht1a"
      },
      "execution_count": 17,
      "outputs": []
    },
    {
      "cell_type": "code",
      "source": [
        "def show_train_history(train_history):\n",
        "\n",
        "    fig , ax = plt.subplots()\n",
        "    fig.subplots_adjust(hspace=0.4, wspace=0.4) #設定子圖的間隔\n",
        "    fig.set_figwidth(14)\n",
        "\n",
        "    ax1 = plt.subplot(1, 2, 1)\n",
        "    plt.title(\"Accuracy\")\n",
        "    plt.plot(train_history.history['accuracy'],'-', label='accuracy')\n",
        "    plt.plot(train_history.history['val_accuracy'],'-',  label='val_accuracy')\n",
        "    leg = ax1.legend(loc='lower right') \n",
        "    plt.ylabel('accuracy')\n",
        "    plt.xlabel('Epoch')\n",
        "\n",
        "\n",
        "    ax2 = plt.subplot(1, 2, 2)\n",
        "    plt.title(\"Loss\")\n",
        "    plt.plot(train_history.history['loss'],'-', label='loss')\n",
        "    plt.plot(train_history.history['val_loss'],'-', label='val_loss')\n",
        "    leg = ax2.legend(loc='upper right') \n",
        "    plt.ylabel('loss')\n",
        "    plt.xlabel('Epoch')\n",
        "    plt.show()\n",
        "     "
      ],
      "metadata": {
        "id": "qF0HCtHXcac0"
      },
      "execution_count": 18,
      "outputs": []
    },
    {
      "cell_type": "code",
      "source": [
        "X.shape, Y.shape"
      ],
      "metadata": {
        "id": "bgGQCu7ThCkZ",
        "colab": {
          "base_uri": "https://localhost:8080/"
        },
        "outputId": "7d024b75-a884-45d3-a4ee-9a62021ede0d"
      },
      "execution_count": 19,
      "outputs": [
        {
          "output_type": "execute_result",
          "data": {
            "text/plain": [
              "((462651, 284), (462651,))"
            ]
          },
          "metadata": {},
          "execution_count": 19
        }
      ]
    },
    {
      "cell_type": "code",
      "execution_count": 20,
      "metadata": {
        "id": "2JtQDR0AUN7s",
        "colab": {
          "base_uri": "https://localhost:8080/"
        },
        "outputId": "42c377a2-9f51-4241-e625-fd4dc6e12786"
      },
      "outputs": [
        {
          "output_type": "stream",
          "name": "stdout",
          "text": [
            "Epoch 1/10\n",
            "18506/18506 [==============================] - 65s 3ms/step - loss: 10447976448.0000 - accuracy: 0.5095 - val_loss: 40.7074 - val_accuracy: 0.0635\n",
            "Epoch 2/10\n",
            "18506/18506 [==============================] - 57s 3ms/step - loss: 51707.4609 - accuracy: 0.8082 - val_loss: 0.1546 - val_accuracy: 0.9365\n",
            "Epoch 3/10\n",
            "18506/18506 [==============================] - 56s 3ms/step - loss: 0.5724 - accuracy: 0.9168 - val_loss: 0.1352 - val_accuracy: 0.9365\n",
            "Epoch 4/10\n",
            "18506/18506 [==============================] - 58s 3ms/step - loss: 9689.6875 - accuracy: 0.9239 - val_loss: 0.0760 - val_accuracy: 0.9365\n",
            "Epoch 5/10\n",
            "18506/18506 [==============================] - 58s 3ms/step - loss: 2.2466 - accuracy: 0.9437 - val_loss: 0.0751 - val_accuracy: 0.9365\n",
            "Epoch 6/10\n",
            "18506/18506 [==============================] - 57s 3ms/step - loss: 22.7410 - accuracy: 0.9608 - val_loss: 0.0569 - val_accuracy: 0.9365\n",
            "Epoch 7/10\n",
            "18506/18506 [==============================] - 58s 3ms/step - loss: 0.0438 - accuracy: 0.9641 - val_loss: 0.0605 - val_accuracy: 0.9365\n",
            "Epoch 8/10\n",
            "18506/18506 [==============================] - 56s 3ms/step - loss: 2.6126 - accuracy: 0.9639 - val_loss: 0.0683 - val_accuracy: 0.9365\n",
            "Epoch 9/10\n",
            "18506/18506 [==============================] - 57s 3ms/step - loss: 0.0322 - accuracy: 0.9646 - val_loss: 0.0631 - val_accuracy: 0.9365\n",
            "Epoch 10/10\n",
            "18506/18506 [==============================] - 56s 3ms/step - loss: 0.0318 - accuracy: 0.9646 - val_loss: 0.0636 - val_accuracy: 0.9365\n"
          ]
        }
      ],
      "source": [
        "train_history = model.fit(X, Y, batch_size=20, epochs=10, validation_split=0.2)"
      ]
    },
    {
      "cell_type": "code",
      "source": [
        "model.metrics_names"
      ],
      "metadata": {
        "id": "Dg6UKgZRhafL",
        "colab": {
          "base_uri": "https://localhost:8080/"
        },
        "outputId": "e19b6511-86e3-414c-ccea-9dcded8ca632"
      },
      "execution_count": 21,
      "outputs": [
        {
          "output_type": "execute_result",
          "data": {
            "text/plain": [
              "['loss', 'accuracy']"
            ]
          },
          "metadata": {},
          "execution_count": 21
        }
      ]
    },
    {
      "cell_type": "code",
      "source": [
        "show_train_history(train_history)"
      ],
      "metadata": {
        "id": "26ZvVnRVcnnK",
        "colab": {
          "base_uri": "https://localhost:8080/",
          "height": 295
        },
        "outputId": "699a6b2a-1fd3-44c3-a4e8-40078ff64056"
      },
      "execution_count": 22,
      "outputs": [
        {
          "output_type": "display_data",
          "data": {
            "text/plain": [
              "<Figure size 1008x288 with 2 Axes>"
            ],
            "image/png": "[encoded data removed]"
          },
          "metadata": {
            "needs_background": "light"
          }
        }
      ]
    },
    {
      "cell_type": "code",
      "source": [
        "train_history.history['accuracy']"
      ],
      "metadata": {
        "colab": {
          "base_uri": "https://localhost:8080/"
        },
        "id": "1Fqv0te-osnt",
        "outputId": "3648e3f5-cadc-4fe6-ec13-79bd0eb60ca0"
      },
      "execution_count": 28,
      "outputs": [
        {
          "output_type": "execute_result",
          "data": {
            "text/plain": [
              "[0.5094752907752991,\n",
              " 0.8082162737846375,\n",
              " 0.9168485999107361,\n",
              " 0.9239246845245361,\n",
              " 0.9436750411987305,\n",
              " 0.9608397483825684,\n",
              " 0.9641170501708984,\n",
              " 0.963884711265564,\n",
              " 0.9645736813545227,\n",
              " 0.9645736813545227]"
            ]
          },
          "metadata": {},
          "execution_count": 28
        }
      ]
    },
    {
      "cell_type": "code",
      "source": [
        "train_history.history['val_accuracy']"
      ],
      "metadata": {
        "colab": {
          "base_uri": "https://localhost:8080/"
        },
        "id": "e3l5ui4Ho2p5",
        "outputId": "c5fe3950-1104-4ef0-83f2-eba8d32e714f"
      },
      "execution_count": 29,
      "outputs": [
        {
          "output_type": "execute_result",
          "data": {
            "text/plain": [
              "[0.06350304186344147,\n",
              " 0.9364969730377197,\n",
              " 0.9364969730377197,\n",
              " 0.9364969730377197,\n",
              " 0.9364969730377197,\n",
              " 0.9364969730377197,\n",
              " 0.9364969730377197,\n",
              " 0.9364969730377197,\n",
              " 0.9364969730377197,\n",
              " 0.9364969730377197]"
            ]
          },
          "metadata": {},
          "execution_count": 29
        }
      ]
    },
    {
      "cell_type": "code",
      "execution_count": 23,
      "metadata": {
        "id": "eQLz61IrUN7s"
      },
      "outputs": [],
      "source": [
        "#predictY = model.predict(test_dataX)\n",
        "#predictY"
      ]
    },
    {
      "cell_type": "code",
      "execution_count": 24,
      "metadata": {
        "id": "QforjXXLUN7s"
      },
      "outputs": [],
      "source": [
        "#predictY = [1 if i >= 0.5 else 0 for i in predictY]"
      ]
    },
    {
      "cell_type": "code",
      "execution_count": 25,
      "metadata": {
        "id": "Y0GRf8s3UN7t"
      },
      "outputs": [],
      "source": [
        "#result = [predictY[i] == test_dataY[i] for i in range(len(predictY))]"
      ]
    },
    {
      "cell_type": "code",
      "execution_count": 26,
      "metadata": {
        "id": "cohuwzCTUN7t"
      },
      "outputs": [],
      "source": [
        "#result.count(True) / len(result)"
      ]
    },
    {
      "cell_type": "code",
      "execution_count": 26,
      "metadata": {
        "id": "vs5HCgQtUN7t"
      },
      "outputs": [],
      "source": []
    }
  ],
  "metadata": {
    "kernelspec": {
      "display_name": "DLPFLP",
      "language": "python",
      "name": "python3"
    },
    "language_info": {
      "codemirror_mode": {
        "name": "ipython",
        "version": 3
      },
      "file_extension": ".py",
      "mimetype": "text/x-python",
      "name": "python",
      "nbconvert_exporter": "python",
      "pygments_lexer": "ipython3",
      "version": "3.10.8"
    },
    "orig_nbformat": 4,
    "vscode": {
      "interpreter": {
        "hash": "714fa03043972cd01e0ff43ae457f231c4ab2004a952fd714f646c0fdf22d664"
      }
    },
    "colab": {
      "provenance": []
    },
    "accelerator": "GPU",
    "gpuClass": "standard"
  },
  "nbformat": 4,
  "nbformat_minor": 0
}